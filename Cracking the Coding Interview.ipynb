{
 "cells": [
  {
   "cell_type": "markdown",
   "metadata": {},
   "source": [
    "# Arrays and Strings"
   ]
  },
  {
   "cell_type": "code",
   "execution_count": 20,
   "metadata": {},
   "outputs": [
    {
     "name": "stdout",
     "output_type": "stream",
     "text": [
      "Enter the string to check: eedwfew\n",
      "False\n"
     ]
    },
    {
     "data": {
      "text/plain": [
       "False"
      ]
     },
     "execution_count": 20,
     "metadata": {},
     "output_type": "execute_result"
    }
   ],
   "source": [
    "# Q-1 Check wether a string has all unique characters\n",
    "\n",
    "\n",
    "def check_uniq():    \n",
    "    st = raw_input(\"Enter the string to check: \")\n",
    "    \n",
    "    from collections import defaultdict\n",
    "    dict = defaultdict(int)\n",
    "    for i in st:\n",
    "        dict[i] = dict[i] + 1\n",
    "    \n",
    "    for k,v in dict.items():\n",
    "        if v >1:\n",
    "            return 'False'\n",
    "    return 'True'\n",
    "\n",
    "print check_uniq()\n",
    "\n",
    "# Better implementation \n",
    "\n",
    "def contains_no_duplicates(string):    \n",
    "    letters = {}\n",
    "    for letter in string:\n",
    "        if letter in letters:    \n",
    "            return False\n",
    "        letters[letter] = True\n",
    "    return True   \n",
    "import sys\n",
    "\n",
    "contains_no_duplicates(sys.argv[-1])"
   ]
  },
  {
   "cell_type": "code",
   "execution_count": 35,
   "metadata": {},
   "outputs": [
    {
     "name": "stdout",
     "output_type": "stream",
     "text": [
      "True\n"
     ]
    },
    {
     "data": {
      "text/plain": [
       "True"
      ]
     },
     "execution_count": 35,
     "metadata": {},
     "output_type": "execute_result"
    }
   ],
   "source": [
    "# Q-2 Check wether a string is a permutation of another string\n",
    "\n",
    "def str_chk(str1, str2):\n",
    "    str_1_list = [i for i in str1]\n",
    "    str_1_list_sort = sorted(str_1_list)\n",
    "\n",
    "    str_2_list = [i for i in str2]\n",
    "    str_2_list_sort = sorted(str_2_list)\n",
    "\n",
    "    if str_1_list_sort == str_2_list_sort:\n",
    "        return 'True'\n",
    "    return 'False'\n",
    "\n",
    "print str_chk('Hi','iH')\n",
    "\n",
    "\n",
    "# Alternate Dictionary implementation\n",
    "\n",
    "def is_permutation(str1, str2):\n",
    "    from collections import defaultdict\n",
    "    \n",
    "    counter = defaultdict(int)\n",
    "    for letter in str1:\n",
    "        counter[letter] += 1\n",
    "    for letter in str2:\n",
    "        if not letter in counter:\n",
    "            return False\n",
    "        counter[letter] -= 1\n",
    "        if counter[letter] == 0:\n",
    "            del counter[letter]\n",
    "    return len(counter) == 0\n",
    "\n",
    "is_permutation('Hi','iH')"
   ]
  },
  {
   "cell_type": "code",
   "execution_count": 48,
   "metadata": {},
   "outputs": [
    {
     "name": "stdout",
     "output_type": "stream",
     "text": [
      "['HI', 'BYE']\n",
      "HI%20BYE%20\n"
     ]
    }
   ],
   "source": [
    "#Q-3 Replace spaces in a string with '%20'\n",
    "\n",
    "def replace_str(string):\n",
    "    str_lst = string.split(\" \")\n",
    "    print str_lst\n",
    "    str_lst_20 = []\n",
    "    for i in str_lst:\n",
    "        str_lst_20.append(i)\n",
    "        str_lst_20.append('%20')\n",
    "        \n",
    "    return \"\".join(str_lst_20)\n",
    "\n",
    "print replace_str('HI BYE')"
   ]
  },
  {
   "cell_type": "code",
   "execution_count": 98,
   "metadata": {},
   "outputs": [
    {
     "data": {
      "text/plain": [
       "True"
      ]
     },
     "execution_count": 98,
     "metadata": {},
     "output_type": "execute_result"
    }
   ],
   "source": [
    "#Q-4 is Palindrome Q-5 Check wether two strings are one or less operations away (opr - delete, replace,insert)\n",
    "\n",
    "\n",
    "def one_away(strng,strng_check):\n",
    "    \n",
    "    if abs(len(strng) - len(strng_check))> 1:\n",
    "        return False\n",
    "    else:\n",
    "    \n",
    "        if len(strng_check) == len(strng):\n",
    "            count = 0\n",
    "            for i,j in zip(strng,strng_check):\n",
    "                if i!=j:\n",
    "                    count +=1\n",
    "            return count < 2\n",
    "\n",
    "        else:\n",
    "            if len(strng) > len(strng_check):        # Smart use of longer,shorter here as deletion\n",
    "                longer,shorter = strng,strng_check   # and insertion are basically the same case with \n",
    "                                                     # reveresed values of longer and shorter. So have\n",
    "            else:                                    # one case only instead of two now\n",
    "                shorter,longer = strng,strng_check   \n",
    "\n",
    "            count = 0\n",
    "            for i in range(len(longer)):\n",
    "                if longer[i]!=shorter[i]:\n",
    "                    count +=1\n",
    "                    for j in range(i+1,len(longer)):\n",
    "                        if longer[j]!=shorter[j-1]:\n",
    "                            count +=1                \n",
    "                        return count < 2\n",
    "\n",
    "one_away('Hello', 'Helo')"
   ]
  },
  {
   "cell_type": "code",
   "execution_count": 127,
   "metadata": {},
   "outputs": [
    {
     "data": {
      "text/plain": [
       "'1'"
      ]
     },
     "execution_count": 127,
     "metadata": {},
     "output_type": "execute_result"
    }
   ],
   "source": [
    "strng = 'Hello'\n",
    "i = 0\n",
    "count = 1\n",
    "str(count)"
   ]
  },
  {
   "cell_type": "code",
   "execution_count": 159,
   "metadata": {},
   "outputs": [
    {
     "data": {
      "text/plain": [
       "'h1e1l1p4'"
      ]
     },
     "execution_count": 159,
     "metadata": {},
     "output_type": "execute_result"
    }
   ],
   "source": [
    "# String compression ie aaabbcc becomes a3b2c2 if string has no consecutive repeating values it \n",
    "# remains the same\n",
    "\n",
    "# Note : Dictionary has 3 important iterators : iterkeys, iteritems, items(not a iterator returns a list)\n",
    "def str_comp(strng):\n",
    "    from collections import defaultdict\n",
    "    dict = defaultdict(int)\n",
    "    for i in strng:\n",
    "        dict[i] = dict[i] + 1\n",
    "    list_val = [a for a in dict.itervalues()]  # Checking wether the string has any repeating letters\n",
    "                                               # if not returning the string else the function below\n",
    "    if sum(list_val) != len(list_val):\n",
    "        i = 0\n",
    "        str_comp = ''\n",
    "        while i < len(strng):\n",
    "            count = 1\n",
    "            while (len(strng) - i)>1 and (strng[i] == strng[i+1]):\n",
    "                count +=1 \n",
    "                i = i + 1            \n",
    "            str_comp  =  str_comp + strng[i]+ str(count)   \n",
    "            i = i + 1\n",
    "        return str_comp\n",
    "    \n",
    "    else:\n",
    "        return strng\n",
    "\n",
    "str_comp('helpppp')"
   ]
  },
  {
   "cell_type": "code",
   "execution_count": 201,
   "metadata": {},
   "outputs": [
    {
     "name": "stdout",
     "output_type": "stream",
     "text": [
      "[(0, 1)]\n"
     ]
    },
    {
     "data": {
      "text/plain": [
       "array([[0, 0, 0],\n",
       "       [3, 0, 5],\n",
       "       [4, 0, 2]])"
      ]
     },
     "execution_count": 201,
     "metadata": {},
     "output_type": "execute_result"
    }
   ],
   "source": [
    "#Q-8 Set entire row column to zero if element in a mxn matrix is 0\n",
    "import numpy as np\n",
    "\n",
    "def set_zero(matrix):\n",
    "    lst = matrix.tolist()\n",
    "    # Find the (row, column) tupple address wherever the value is 0\n",
    "    lst_addr = []\n",
    "    for i in lst:\n",
    "        for j in i:\n",
    "            if j ==0:\n",
    "                lst_addr.append((lst.index(i),i.index(j)))\n",
    "    print lst_addr\n",
    "    # Finding unique rows and columns from lst_addr tupple list\n",
    "    row,column = set(),set()\n",
    "    for r,c in lst_addr:\n",
    "        row.add(r)\n",
    "        column.add(c)\n",
    "        \n",
    "    # Setting rows in row to zero and columns in column to zero\n",
    "    for i in row:\n",
    "        matrix[i] = 0\n",
    "    for j in column:\n",
    "        matrix[:,j]=0\n",
    "        \n",
    "    return matrix\n",
    "\n",
    "set_zero(np.array([[1,0,3],[3,4,5],[4,3,2]]))\n",
    "\n",
    "\n",
    "# Shorter approach using numpy/vector functions\n",
    "import copy\n",
    "b = copy.deepcopy(a)\n",
    "l = []\n",
    "for i in range(a.shape[0]):     # Creating tupples of row column index to iterate over \n",
    "    for j in range(a.shape[1]):\n",
    "        l.append((i,j))\n",
    "        \n",
    "for i in l:\n",
    "    if a[i] ==0:\n",
    "        b[i[0],] =0\n",
    "        b[:,i[1]] =0\n",
    "print b"
   ]
  },
  {
   "cell_type": "code",
   "execution_count": 28,
   "metadata": {},
   "outputs": [
    {
     "name": "stderr",
     "output_type": "stream",
     "text": [
      ".\n",
      "----------------------------------------------------------------------\n",
      "Ran 1 test in 0.000s\n",
      "\n",
      "OK\n"
     ]
    }
   ],
   "source": [
    "# Checking if a string is a rotation of another string \n",
    "\n",
    "# Checking wether str2 is a rotation of str1\n",
    "def check_rot(str1, str2):\n",
    "    if len(str1) != len(str2):\n",
    "        return False\n",
    "    else:\n",
    "        str11 = str1 + str1\n",
    "        return is_substring(str2,str11)\n",
    "\n",
    "\n",
    "# Checking wether str2 is a substring of str1\n",
    "def is_substring(str1,str2): \n",
    "    if len(str1)>len(str2):\n",
    "        return False\n",
    "    else:\n",
    "        is_substring = False\n",
    "        for i in range(len(str2)-len(str1)+1):\n",
    "            for j in range(len(str1)):\n",
    "                if str1[j] != str2[i+j]:\n",
    "                    break\n",
    "                    \n",
    "                if j == len(str1)-1:\n",
    "                    is_substring = True\n",
    "                    \n",
    "            if is_substring == True:\n",
    "                break\n",
    "        return is_substring \n",
    "                \n",
    "    \n",
    "\n",
    "# Checking test cases in python using unitest library\n",
    "\n",
    "import unittest\n",
    "\n",
    "class Test(unittest.TestCase):\n",
    "    def test_is_rotation(self):\n",
    "        s1 = \"tabletop\"\n",
    "        s2 = \"toptable\"\n",
    "        s3 = \"optalbet\"\n",
    "        self.assertTrue(check_rot(s1, s2))\n",
    "        self.assertFalse(check_rot(s1, s3))\n",
    "        \n",
    "if __name__ == \"__main__\":\n",
    "    unittest.main(argv=['first-arg-is-ignored'], exit=False)\n",
    "    "
   ]
  },
  {
   "cell_type": "markdown",
   "metadata": {},
   "source": [
    "# LinkedList Questions"
   ]
  },
  {
   "cell_type": "code",
   "execution_count": 216,
   "metadata": {},
   "outputs": [
    {
     "name": "stdout",
     "output_type": "stream",
     "text": [
      "noooo good good you see bye hi\n",
      "noooo good good you see bye hi\n",
      "['see', 'bye', 'hi']\n"
     ]
    }
   ],
   "source": [
    "# LINKED LIST QUESTIONS\n",
    "\n",
    "class Node:\n",
    "    def __init__(self,data):\n",
    "        self.data = data\n",
    "        self.ref = None\n",
    "\n",
    "class LinkL:\n",
    "    def __init__(self,data):\n",
    "        self.root = Node(data)\n",
    "        self.len =1\n",
    "    \n",
    "    def add(self,data):\n",
    "        n1 = Node(data)\n",
    "        n1.ref = self.root\n",
    "        self.root = n1\n",
    "        self.len +=1\n",
    "        \n",
    "    def prnt(self):\n",
    "        return LinkL.prin_r(self.root)\n",
    "    \n",
    "    @staticmethod\n",
    "    def prin_r(node):\n",
    "        if node.ref == None:\n",
    "            return node.data\n",
    "        else:\n",
    "            return node.data + ' ' +  LinkL.prin_r(node.ref)\n",
    "        \n",
    "    def print_nonr(self):\n",
    "        i = self.root\n",
    "        while i != None:\n",
    "            print i.data\n",
    "            i = i.ref\n",
    "   \n",
    "    ########### REVERSE A LINKEDLIST ##########\n",
    "\n",
    "    def reverse(self):\n",
    "        ln = self.len                   # Complex implementation which goes from the back to change references for each element\n",
    "        while ln>1:\n",
    "            n = self.root\n",
    "            i = 0\n",
    "            while i < ln-1: \n",
    "                if i == ln-2:\n",
    "                    a = n\n",
    "                    b = n.ref\n",
    "                    b.ref = a\n",
    "                    break\n",
    "                n = n.ref\n",
    "                i = i + 1\n",
    "                \n",
    "            if ln == self.len:\n",
    "                rt = b\n",
    "            \n",
    "            if ln == 2:\n",
    "                a.ref = None\n",
    "            ln = ln-1\n",
    "        \n",
    "        self.root = rt\n",
    "        \n",
    "    def reverse_list_1(self):\n",
    "        head = self.root\n",
    "        new_head = None  # this is where we build the reversed list (reusing the existing nodes)\n",
    "        while head:\n",
    "            temp = head  # temp is a reference to a node we're moving from one list to the other\n",
    "            head = temp.ref  # the first two assignments pop the node off the front of the list\n",
    "            temp.ref = new_head  # the next two make it the new head of the reversed list\n",
    "            new_head = temp  # Note: New head is a pointer which now starts pointing to a new value temp.ref still holds the value \n",
    "                             # previously allocated to it which in the first iteration is None.\n",
    "        self.root = new_head\n",
    "        return new_head\n",
    "        \n",
    "    def reverse_list(self):\n",
    "        head = self.root\n",
    "        new_head = None\n",
    "        while head:\n",
    "            new_head, head.ref, head,  = head, new_head, head.ref \n",
    "        self.root = new_head\n",
    "        return new_head\n",
    "    \n",
    "    \n",
    "    ########## Q1 - Remove duplicates from a unsorted LinkedList ##########\n",
    "    \n",
    "    def rem_dupl(self):\n",
    "        all_data = set()\n",
    "        i = self.root\n",
    "        bef = None\n",
    "        while i is not None:          \n",
    "            if i.data not in all_data:\n",
    "                all_data.add(i.data)\n",
    "                bef = i\n",
    "                i = i.ref\n",
    "            else:\n",
    "                a = i.ref\n",
    "                bef.ref = a\n",
    "                i.ref = None\n",
    "                i = a\n",
    "    ########## Q2 - Print from Kth to the last element in LL ##########            \n",
    "    def prnt_k_to_last(self,k):\n",
    "        i = self.root\n",
    "        ll_data = []\n",
    "        while i is not None:\n",
    "            ll_data.append(i.data)\n",
    "            i = i.ref\n",
    "        return ll_data[k-1:]\n",
    "    \n",
    "                \n",
    "L1 = LinkL('hi')\n",
    "for i in ['bye','see','you','good','good','noooo']:\n",
    "    L1.add(i)\n",
    "\n",
    "print L1.prnt()\n",
    "#L1.reverse_list()\n",
    "#L1.rem_dupl()\n",
    "#print L1.root.ref\n",
    "print L1.prnt()\n",
    "print L1.prnt_k_to_last(5)"
   ]
  },
  {
   "cell_type": "code",
   "execution_count": 215,
   "metadata": {},
   "outputs": [
    {
     "data": {
      "text/plain": [
       "['good', 'good', 'noooo']"
      ]
     },
     "execution_count": 215,
     "metadata": {},
     "output_type": "execute_result"
    }
   ],
   "source": [
    "ls = ['hi','bye','see','you','good','good','noooo']\n",
    "ls[5-1:]"
   ]
  },
  {
   "cell_type": "code",
   "execution_count": 191,
   "metadata": {},
   "outputs": [
    {
     "data": {
      "text/plain": [
       "{4}"
      ]
     },
     "execution_count": 191,
     "metadata": {},
     "output_type": "execute_result"
    }
   ],
   "source": [
    "#print L1.root.ref.ref.ref.ref.ref.ref.ref\n",
    "\n",
    "a = set()\n",
    "a.add(4)\n",
    "if len(a) != len(a.add(4)):\n",
    "    print 'hi'\n",
    "a.add(4)\n",
    "a"
   ]
  },
  {
   "cell_type": "code",
   "execution_count": null,
   "metadata": {},
   "outputs": [],
   "source": []
  }
 ],
 "metadata": {
  "kernelspec": {
   "display_name": "Python 2",
   "language": "python",
   "name": "python2"
  },
  "language_info": {
   "codemirror_mode": {
    "name": "ipython",
    "version": 2
   },
   "file_extension": ".py",
   "mimetype": "text/x-python",
   "name": "python",
   "nbconvert_exporter": "python",
   "pygments_lexer": "ipython2",
   "version": "2.7.14"
  }
 },
 "nbformat": 4,
 "nbformat_minor": 2
}
