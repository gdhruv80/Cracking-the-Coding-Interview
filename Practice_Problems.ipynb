{
 "cells": [
  {
   "cell_type": "code",
   "execution_count": 53,
   "metadata": {
    "collapsed": false,
    "deletable": true,
    "editable": true
   },
   "outputs": [
    {
     "name": "stdout",
     "output_type": "stream",
     "text": [
      "[7, 8, 5]\n",
      "\n",
      "(7, 8)\n",
      "(7, 5)\n",
      "(8, 5)\n",
      "\n",
      "(7, 8)\n",
      "(7, 5)\n",
      "(8, 7)\n",
      "(8, 5)\n",
      "(5, 7)\n",
      "(5, 8)\n"
     ]
    },
    {
     "name": "stderr",
     "output_type": "stream",
     "text": [
      "C:\\Users\\dhrugarg\\AppData\\Local\\Continuum\\anaconda2\\lib\\site-packages\\ipykernel_launcher.py:4: DeprecationWarning: This function is deprecated. Please call randint(1, 10 + 1) instead\n",
      "  after removing the cwd from sys.path.\n"
     ]
    }
   ],
   "source": [
    "# Listing all possible tupple combinations from a list\n",
    "import numpy as np\n",
    "\n",
    "\n",
    "l = list(np.random.random_integers(10,size = 3))   # Only listing combinations of (x,y) once ie not listing both (x,y) and (y,x)\n",
    "print l\n",
    "print('')\n",
    "for i in l:\n",
    "    for j in l[l.index(i)+1:]:\n",
    "        print (i,j)\n",
    "        \n",
    "print('')\n",
    "\n",
    "for i in l:                                         # Listing both (x,y) and (y,x) but not listing (x,x)\n",
    "    for j in l:\n",
    "        if j<>i:\n",
    "            print (i,j)\n",
    "        "
   ]
  },
  {
   "cell_type": "code",
   "execution_count": 236,
   "metadata": {
    "collapsed": false,
    "deletable": true,
    "editable": true
   },
   "outputs": [
    {
     "name": "stdout",
     "output_type": "stream",
     "text": [
      "Bey\n",
      "Hi\n",
      "[('Bey', 3), ('Hi', 2)]\n"
     ]
    }
   ],
   "source": [
    "# Checking if the element in a list is a anagram of any other element in the list or not\n",
    "\n",
    "list = ['Hi','Bye','iH','eBy','Bye']\n",
    "\n",
    "sort_list = [\"\".join(sorted(i)) for i in list]\n",
    "\n",
    "from collections import defaultdict\n",
    "sort_dict = defaultdict(int)\n",
    "\n",
    "for i in sort_list:\n",
    "    sort_dict[i] = sort_dict[i] + 1\n",
    "    \n",
    "for k,v in sort_dict.items():\n",
    "    if v>1:\n",
    "        print k\n",
    "\n",
    "# Approach 1 \n",
    "# from collections import Counter    # Alternate approach for creating dict of count of elements in a \n",
    "# sort_dict = Counter(sort_list)     # list\n",
    "\n",
    "#Approach 2 \n",
    "print [(i,sort_list.count(i)) for i in set(sort_list)]"
   ]
  },
  {
   "cell_type": "code",
   "execution_count": 243,
   "metadata": {
    "collapsed": false,
    "deletable": true,
    "editable": true
   },
   "outputs": [
    {
     "name": "stdout",
     "output_type": "stream",
     "text": [
      "Hi 2\n",
      "Bey 3\n",
      "Bey\n",
      "Hi\n"
     ]
    }
   ],
   "source": [
    "# Sorting a dictionary\n",
    "\n",
    "for k,v in sorted(sort_dict.items(),key = lambda x:x[1]):   # Sorting based on the value \n",
    "    print k,v\n",
    "    \n",
    "for key in sorted(sort_dict.iterkeys()):   # Sorting based on keys\n",
    "    print key"
   ]
  },
  {
   "cell_type": "code",
   "execution_count": 96,
   "metadata": {
    "collapsed": false,
    "deletable": true,
    "editable": true
   },
   "outputs": [
    {
     "name": "stdout",
     "output_type": "stream",
     "text": [
      "Enter the string/int to check:hiih\n",
      "Its a Palindrome\n"
     ]
    }
   ],
   "source": [
    "# Checking a no for Palindrome without converting it to string\n",
    "\n",
    "def palind_num():\n",
    "    Num = input(\"Type the no to check:\")       # Input takes in integer input from user raw_input takes in text input from user\n",
    "    \n",
    "    rem_no = Num\n",
    "    Final_no = 0\n",
    "    \n",
    "    while rem_no > 0:\n",
    "        Final_no = Final_no*10\n",
    "        Digit = (rem_no%10)\n",
    "        rem_no = int(rem_no/10)\n",
    "        Final_no = Final_no + Digit\n",
    "    \n",
    "    if Final_no ==Num:\n",
    "        print 'Its a Palindrome'\n",
    "    else:\n",
    "        print 'No its not a Palindrome'\n",
    "\n",
    "\n",
    "# Checking a no/string for Palindrome (no restrictions)\n",
    "\n",
    "def palind():\n",
    "    inp = raw_input(\"Enter the string/int to check:\")\n",
    "    if str(inp) == str(inp[::-1]):\n",
    "        print 'Its a Palindrome'\n",
    "    else:\n",
    "        print 'No its not a Palindrome'\n",
    "        \n",
    "        \n",
    "# Checking a no/string for Palindrome (Using recursion)\n",
    "\n",
    "def palind_rec():\n",
    "    inp = raw_input(\"Enter the string/int to check:\")\n",
    "    \n",
    "    def return_reverse(str):\n",
    "        if len(str) ==1:\n",
    "            return str\n",
    "        else:\n",
    "            return return_reverse(str[1:]) + str[0]\n",
    "     \n",
    "    if inp ==return_reverse(inp):\n",
    "        print 'Its a Palindrome'\n",
    "    else:\n",
    "        print 'No its not a Palindrome'\n",
    "    \n",
    "    \n",
    "palind_rec()"
   ]
  },
  {
   "cell_type": "code",
   "execution_count": 135,
   "metadata": {
    "collapsed": false,
    "deletable": true,
    "editable": true
   },
   "outputs": [
    {
     "name": "stdout",
     "output_type": "stream",
     "text": [
      "de\n",
      "but, um\n",
      "['but, um', 'but, um', 'but, um', 'But, um']\n"
     ]
    }
   ],
   "source": [
    "# Understanding regular expressions \n",
    "\n",
    "import re\n",
    "m = re.search('(?<=abc)de', 'abcdef')   # Search for 'de' after 'abc' re.search and re.match return a\n",
    "#m.group(0)                             # object of the match object class. This object has the group\n",
    "if m:\n",
    "    print m.group(0)                    # function which returns the first occurance of 'de'.In case\n",
    "else:                                   # there was no occurance of 'de' m is set to None and not a \n",
    "    print 'No occurance'                # object of the match object class making it easy to check if \n",
    "                                        # there was a occurance of 'de' in the text or not\n",
    "    \n",
    "txt = '''3but, um 450                   \n",
    "  00:17:53,457 --> 00:17:56,175\n",
    " Okay, but, um,\n",
    " thanks for being with us.\n",
    "\n",
    "but, um 451\n",
    " 00:17:56,175 --> 00:17:58,616\n",
    " But, um, if there's any\n",
    " college kids watching,\n",
    "'''\n",
    "a = re.search('[B,b]ut, um', txt)       # Searches for But, um or but, um in the 'txt'\n",
    "print a.group(0)\n",
    "b = re.match('[B,b]ut, um', txt)        # Searches for But, um or but, um in the begining of the string\n",
    "if b:                                   # only. Has to be the first element in the string\n",
    "    b.group(0)\n",
    "\n",
    "txt.find('but, um')                     # Gives the index of the first occurance of 'but, um'\n",
    "print re.findall('[B,b]ut, um', txt)    # Finds all the occurances of 'but, um' and puts them in a list\n",
    "\n",
    "re.split('\\W+', 'Words, words, words.') # Splits the text based on the keyword in this case 'W'\n",
    "#['Words', 'words', 'words', '']\n",
    "re.split('(\\W+)', 'Words, words, words.')\n",
    "#['Words', ', ', 'words', ', ', 'words', '.', '']"
   ]
  },
  {
   "cell_type": "code",
   "execution_count": 139,
   "metadata": {
    "collapsed": false,
    "deletable": true,
    "editable": true
   },
   "outputs": [
    {
     "name": "stdout",
     "output_type": "stream",
     "text": [
      "aaa\n",
      "bbb\n",
      "ccc\n",
      "ddd\n",
      "eee\n"
     ]
    }
   ],
   "source": [
    "str = '''Email_Address,Nickname,Group_Status,Join_Year\n",
    "aa@aaa.com,aa,Owner,2014\n",
    "bb@bbb.com,bb,Member,2015\n",
    "cc@ccc.com,cc,Member,2017\n",
    "dd@ddd.com,dd,Member,2016\n",
    "ee@eee.com,ee,Member,2020\n",
    "'''\n",
    "\n",
    "# Basically similar to search finditer gives one object each of the match object class for each occurance\n",
    "# of the Regular expression. This match object has the group function which we are using to access the\n",
    "# domain name ('aaa','bbb' etc)\n",
    "\n",
    "for i in re.finditer('([a-zA-Z]+)@([a-zA-Z]+).(com)', str):  \n",
    "    print i.group(2)"
   ]
  },
  {
   "cell_type": "code",
   "execution_count": 143,
   "metadata": {
    "collapsed": false,
    "deletable": true,
    "editable": true
   },
   "outputs": [
    {
     "name": "stdout",
     "output_type": "stream",
     "text": [
      "[1, 2, 3, 4, 5, [6, 7, 8, 9]]\n",
      "[1, 2, 3, 4, 5, [6, 7, 8, 9], 6, 7, 8, 9]\n"
     ]
    }
   ],
   "source": [
    "# Append vs Extend IMPORTANT\n",
    "\n",
    "a = [1,2,3,4,5]\n",
    "b = [6,7,8,9]\n",
    "a.append(b)\n",
    "print a\n",
    "a.extend(b)\n",
    "print a"
   ]
  },
  {
   "cell_type": "code",
   "execution_count": 148,
   "metadata": {
    "collapsed": false,
    "deletable": true,
    "editable": true
   },
   "outputs": [
    {
     "data": {
      "text/plain": [
       "array([[ 1.,  0.,  0.],\n",
       "       [ 0.,  1.,  0.],\n",
       "       [ 0.,  0.,  1.]])"
      ]
     },
     "execution_count": 148,
     "metadata": {},
     "output_type": "execute_result"
    }
   ],
   "source": [
    "# dump(model, “file”) to pickle (store the model) for later use\n",
    "\n",
    "# string '21/01/2017' to datetime use “%d/%m/%Y” as format in strptime. (not “%D/%M/%Y”)\n",
    "\n",
    "\n",
    "# To make a identity matrix in python\n",
    "np.array([[1, 0, 0], [0, 1, 0], [0, 0, 1]])\n",
    "#or \n",
    "np.eye(3)\n",
    "#or \n",
    "np.identity(3)"
   ]
  },
  {
   "cell_type": "code",
   "execution_count": 165,
   "metadata": {
    "collapsed": false,
    "deletable": true,
    "editable": true
   },
   "outputs": [
    {
     "name": "stdout",
     "output_type": "stream",
     "text": [
      "  C_CONTIGUOUS : True\n",
      "  F_CONTIGUOUS : True\n",
      "  OWNDATA : True\n",
      "  WRITEABLE : True\n",
      "  ALIGNED : True\n",
      "  UPDATEIFCOPY : False   C_CONTIGUOUS : True\n",
      "  F_CONTIGUOUS : False\n",
      "  OWNDATA : True\n",
      "  WRITEABLE : True\n",
      "  ALIGNED : True\n",
      "  UPDATEIFCOPY : False\n"
     ]
    },
    {
     "data": {
      "text/plain": [
       "array([[1, 2, 3],\n",
       "       [0, 1, 2],\n",
       "       [1, 2, 3]])"
      ]
     },
     "execution_count": 165,
     "metadata": {},
     "output_type": "execute_result"
    }
   ],
   "source": [
    "e = np.array([1, 2, 3, 2, 3, 4, 4, 5, 6])\n",
    "\n",
    "f = np.array([[1, 2, 3], [2, 3, 4], [4, 5, 6]])\n",
    "\n",
    "print e.flags, f.flags # If own data is false that means that the elements in the array dosent have\n",
    "# its own memory allocation and is derived from some other array and changes in the other arrays elements \n",
    "# will lead to changes in this array\n",
    "\n",
    "\n",
    "# Stack two arrays one below the other\n",
    "train_set = np.array([1, 2, 3])\n",
    "test_set = np.array([[0, 1, 2], [1, 2, 3]])\n",
    "\n",
    "#np.concatenate([train_set, test_set])   # Wont work either axis = 0/1 as the two arrays have different\n",
    "                                         # dimensions\n",
    "\n",
    "resulting_set = np.vstack([train_set, test_set]) # Stacks them vertically\n",
    "resulting_set\n",
    "\n",
    "# Import a text file using numpy\n",
    "\n",
    "#temp = np.genfromtxt(filename, filling_values=filling_values)"
   ]
  },
  {
   "cell_type": "code",
   "execution_count": 168,
   "metadata": {
    "collapsed": false,
    "deletable": true,
    "editable": true
   },
   "outputs": [
    {
     "name": "stdout",
     "output_type": "stream",
     "text": [
      "First line.\n",
      "Second line.\n",
      "\n"
     ]
    }
   ],
   "source": [
    "# String IO Class - Its used to keep a running string buffer by using output.write\n",
    "\n",
    "import StringIO\n",
    "\n",
    "output = StringIO.StringIO()\n",
    "output.write('First line.\\n')\n",
    "output.write('Second line.\\n')\n",
    "\n",
    "# Retrieve file contents -- this will be\n",
    "# 'First line.\\nSecond line.\\n'\n",
    "contents = output.getvalue()\n",
    "\n",
    "# Close object and discard memory buffer --\n",
    "# .getvalue() will now raise an exception.\n",
    "output.close()\n",
    "\n",
    "print contents\n",
    "\n",
    "# Similary String IO is used here to read in the contents of a excel file\n",
    "\n",
    "link = 'https://docs.google.com/spreadsheets/d/...'\n",
    "\n",
    "source = StringIO.StringIO(requests.get(link).content))   # In this case the String IO object is initialized\n",
    "                                                          # to the contents of the URL/link \n",
    "data = pd.read_csv(source)\n",
    "\n",
    "import requests \n",
    "s = requests.get(link)   # Requests is a very imp library to fetch online content/API calls\n",
    "s.content\n",
    "s.json()\n",
    "s.headers"
   ]
  },
  {
   "cell_type": "code",
   "execution_count": 253,
   "metadata": {
    "collapsed": false,
    "deletable": true,
    "editable": true
   },
   "outputs": [
    {
     "name": "stdout",
     "output_type": "stream",
     "text": [
      "['A', 'B', 'C']\n",
      "ABC\n"
     ]
    },
    {
     "data": {
      "text/plain": [
       "'a,  c cddc'"
      ]
     },
     "execution_count": 253,
     "metadata": {},
     "output_type": "execute_result"
    }
   ],
   "source": [
    "# 2 very important string functions split and join\n",
    "\n",
    "i = \"A\"\n",
    "\" \".join(['1','2','3'])\n",
    "\n",
    "x = [\"A\",\"B\",\"C\"]\n",
    "print [\" \".join(i.split(\" \")) for i in x]\n",
    "print \"\".join([i for i in x])\n",
    "\n",
    "c = \"a, b c cddc\"\n",
    "\"\".join(c.split(\"b\"))\n",
    "\n",
    "#train  = pd.DataFrame({'id':[1,2,4],'features':[[\"A\",\"B\",\"C\"],[\"A\",\"D\",\"E\"],[\"C\",\"D\",\"F\"]]})\n",
    "\n",
    "#train['features_t'] = train[\"features\"].apply(lambda x: \" \".join([\"_\".join(i.split(\" \")) for i in x]))\n"
   ]
  },
  {
   "cell_type": "code",
   "execution_count": 249,
   "metadata": {
    "collapsed": false,
    "deletable": true,
    "editable": true
   },
   "outputs": [
    {
     "data": {
      "text/plain": [
       "'A'"
      ]
     },
     "execution_count": 249,
     "metadata": {},
     "output_type": "execute_result"
    }
   ],
   "source": []
  },
  {
   "cell_type": "code",
   "execution_count": null,
   "metadata": {
    "collapsed": true,
    "deletable": true,
    "editable": true
   },
   "outputs": [],
   "source": [
    "# List compehension advanced use of if and for together\n",
    "d = r1['UNIT'].values\n",
    "c = [i if i =='R051' else 'Hi' for i in d]\n",
    "c\n",
    "\n",
    "# l = [1, 2, 3, 4, 5]\n",
    "# a = ['yes' if v == 1 else 'idle' for v in l]\n",
    "# a\n",
    "\n",
    "# View vs copy of a dataframe"
   ]
  }
 ],
 "metadata": {
  "kernelspec": {
   "display_name": "Python 3",
   "language": "python",
   "name": "python3"
  },
  "language_info": {
   "codemirror_mode": {
    "name": "ipython",
    "version": 3
   },
   "file_extension": ".py",
   "mimetype": "text/x-python",
   "name": "python",
   "nbconvert_exporter": "python",
   "pygments_lexer": "ipython3",
   "version": "3.5.2"
  }
 },
 "nbformat": 4,
 "nbformat_minor": 2
}
